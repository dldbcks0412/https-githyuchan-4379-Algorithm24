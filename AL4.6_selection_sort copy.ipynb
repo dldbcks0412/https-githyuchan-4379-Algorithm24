{
 "cells": [
  {
   "cell_type": "markdown",
   "metadata": {},
   "source": [
    "# 이유찬"
   ]
  },
  {
   "cell_type": "markdown",
   "metadata": {},
   "source": []
  },
  {
   "cell_type": "markdown",
   "metadata": {},
   "source": [
    "# 알고리즘 설명\n",
    "##### 주어진 리스트에서 주어진 값을 반복 구조로 이진 탐색한다. 함수는 리스트를 절반으로 나누어 목표값을 찾을 때까지 반복하고, 값을 찾으면 해당 인덱스를 반환, 찾지 못하면 -1을 반환한다."
   ]
  },
  {
   "cell_type": "markdown",
   "metadata": {},
   "source": [
    "# 손으로 푼 예제"
   ]
  },
  {
   "cell_type": "markdown",
   "metadata": {},
   "source": []
  },
  {
   "cell_type": "markdown",
   "metadata": {},
   "source": [
    "![alt text](KakaoTalk_20240423_214352527_01.jpg)"
   ]
  },
  {
   "cell_type": "markdown",
   "metadata": {},
   "source": [
    "# 코드개요 \n",
    "##### 입력변수는 [1, 3, 8, 13, 16, 21, 26, 27, 30, 33, 36, 39, 41, 44, 49]\n",
    "##### 출력변수는 리스트에 있는 키 값의 인덱스 (없으면 -1)\n",
    "##### 33을 찾아내면 10, 찾아내지 못하면 -1 을 출력\n"
   ]
  },
  {
   "cell_type": "markdown",
   "metadata": {},
   "source": [
    "# 알고리즘 코드"
   ]
  },
  {
   "cell_type": "code",
   "execution_count": 2,
   "metadata": {},
   "outputs": [],
   "source": [
    "def binary_search(A, key, low, high):\n",
    "    while (low <= high):\n",
    "        mid = (low + high) // 2\n",
    "        if key == A[mid] :\n",
    "            return mid\n",
    "        elif key > A[mid]:\n",
    "            low = mid + 1\n",
    "        else:\n",
    "            high = mid - 1\n",
    "    return -1\n",
    "        \n",
    "        "
   ]
  },
  {
   "cell_type": "code",
   "execution_count": 3,
   "metadata": {},
   "outputs": [
    {
     "name": "stdout",
     "output_type": "stream",
     "text": [
      "입력 리스트 =  [1, 3, 8, 13, 13, 16, 21, 26, 27, 30, 33, 36, 39, 41, 44, 49]\n",
      "33 탐색(순환) --> 10\n",
      "32 탐색(순환) --> -1\n"
     ]
    }
   ],
   "source": [
    "def binary_search(A, key, low, high):\n",
    "    if (low <= high):\n",
    "        mid = (low + high)\n",
    "        if key == A[mid] :\n",
    "            return mid\n",
    "        elif key < A[mid] :\n",
    "            return binary_search(A, key, low, mid-1)\n",
    "        else :\n",
    "            return binary_search(A, key, mid+1, high)\n",
    "    return -1\n",
    "\n",
    "listA = [1, 3, 8, 13, 13, 16, 21, 26, 27, 30, 33, 36, 39, 41, 44, 49]\n",
    "print(\"입력 리스트 = \", listA)\n",
    "print(\"33 탐색(순환) -->\", binary_search(listA, 33, 0, len(listA)-1))\n",
    "print(\"32 탐색(순환) -->\", binary_search(listA, 32, 0, len(listA)-1))"
   ]
  },
  {
   "cell_type": "markdown",
   "metadata": {},
   "source": [
    "# 출력결과"
   ]
  },
  {
   "cell_type": "markdown",
   "metadata": {},
   "source": [
    "![alt text](KakaoTalk_20240423_214352527_02-1.jpg)"
   ]
  },
  {
   "cell_type": "markdown",
   "metadata": {},
   "source": [
    "# 함수 복잡도\n",
    "##### 시간 복잡도는 O(logn)이다.\n",
    "##### 공간 복잡도는 스택 공간에 따라 결정. 일반적으로는 O(logn)이다.ㅁ"
   ]
  },
  {
   "cell_type": "code",
   "execution_count": null,
   "metadata": {},
   "outputs": [],
   "source": []
  }
 ],
 "metadata": {
  "kernelspec": {
   "display_name": "Python 3",
   "language": "python",
   "name": "python3"
  },
  "language_info": {
   "codemirror_mode": {
    "name": "ipython",
    "version": 3
   },
   "file_extension": ".py",
   "mimetype": "text/x-python",
   "name": "python",
   "nbconvert_exporter": "python",
   "pygments_lexer": "ipython3",
   "version": "3.11.3"
  }
 },
 "nbformat": 4,
 "nbformat_minor": 2
}
