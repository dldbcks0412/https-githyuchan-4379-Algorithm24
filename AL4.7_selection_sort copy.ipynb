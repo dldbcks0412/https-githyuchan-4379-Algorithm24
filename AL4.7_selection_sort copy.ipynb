{
 "cells": [
  {
   "cell_type": "markdown",
   "metadata": {},
   "source": [
    "# 이유찬\n"
   ]
  },
  {
   "cell_type": "markdown",
   "metadata": {},
   "source": []
  },
  {
   "cell_type": "markdown",
   "metadata": {},
   "source": [
    "# 문제정의"
   ]
  },
  {
   "cell_type": "markdown",
   "metadata": {},
   "source": [
    "##### 거듭제곱을 구하는 간단한 문제를 수학 라이브러리를 사용하지 않고 해결해 보자. 문제는 다음과 같이 정의된다."
   ]
  },
  {
   "cell_type": "markdown",
   "metadata": {},
   "source": []
  },
  {
   "cell_type": "markdown",
   "metadata": {},
   "source": [
    "# 알고리즘 설명\n",
    "##### 곱셈을 이용해 직접 계산하는 알고리즘을 생각해 본다."
   ]
  },
  {
   "cell_type": "markdown",
   "metadata": {},
   "source": []
  },
  {
   "cell_type": "markdown",
   "metadata": {},
   "source": [
    "# 손으로 푼 예제 이미지 사진 "
   ]
  },
  {
   "cell_type": "markdown",
   "metadata": {},
   "source": [
    "![alt text](KakaoTalk_20240423_214352527_01.jpg)"
   ]
  },
  {
   "cell_type": "markdown",
   "metadata": {},
   "source": []
  },
  {
   "cell_type": "markdown",
   "metadata": {},
   "source": [
    "# 코드"
   ]
  },
  {
   "cell_type": "markdown",
   "metadata": {},
   "source": [
    "##### 코드개요: import time 포함 \n",
    "##### def slow_power(x,n): 반복으로 x,n을 구하는 함수   result = 1.0 \n",
    "##### for i in range(): 루프:n번 반복\n",
    "##### result = result * x     return result\n",
    "\n",
    "##### def power(x,n): if n==0: 종료조건 return 1 \n",
    "##### 모든수의 0승은 1  elif (n%2)==0:  n의 짝수 return power(xx,n//2)  정수의 나눗셈 else:   n이 홀수 return xpower(x*x,(n-1)//2)"
   ]
  },
  {
   "cell_type": "code",
   "execution_count": null,
   "metadata": {},
   "outputs": [],
   "source": [
    "import time \n",
    "\n",
    "def slow_power(x,n):\n",
    "    result = 1.0\n",
    "    for i in range(n):\n",
    "        result = result * x\n",
    "        return result\n",
    "\n",
    "def power(x,n):\n",
    "    if n==0 :\n",
    "        return 1\n",
    "    elif(n%2)==0:\n",
    "        return power(x*x,n//2)\n",
    "    else:\n",
    "        return x * power (x*x, (n-1)//2)\n"
   ]
  },
  {
   "cell_type": "code",
   "execution_count": null,
   "metadata": {},
   "outputs": [],
   "source": [
    "import time \n",
    "\n",
    "def slow_power(x,n):\n",
    "    result = 1.0\n",
    "    for i in range(n):\n",
    "        result = result * x\n",
    "        return result\n",
    "\n",
    "def power(x,n):\n",
    "    if n==0 :\n",
    "        return 1\n",
    "    elif(n%2)==0:\n",
    "        return power(x*x,n/2)\n",
    "    else:\n",
    "        return x * power (x*x, (n-1)/2)\n",
    "\n",
    "print(\"      억지기법(2*500) =\", power(2.0, 500))\n",
    "print(\"축소정복기법(2*500) =\", slow_power(2.0, 500))\n",
    "\n",
    "t1 = time.time()\n",
    "for i in range(100000) : power(2.0, 500)\n",
    "t2 = time.time()\n",
    "for i in range(100000) : slow_power(2.0, 500)\n",
    "t3 = time.time()\n",
    "\n",
    "print(\"      억지기법 시간...\", t3-t2)\n",
    "print(\"축소정복기법 시간...\", t2-t1)"
   ]
  },
  {
   "cell_type": "markdown",
   "metadata": {},
   "source": [
    "# 수행결과"
   ]
  },
  {
   "cell_type": "markdown",
   "metadata": {},
   "source": [
    "![alt text](KakaoTalk_20240423_214352527_03.jpg)"
   ]
  },
  {
   "cell_type": "markdown",
   "metadata": {},
   "source": [
    "# 복잡도 분석\n",
    "##### 시간 복잡도는 O(n)이다."
   ]
  },
  {
   "cell_type": "markdown",
   "metadata": {},
   "source": [
    "# 협력내용"
   ]
  },
  {
   "cell_type": "markdown",
   "metadata": {},
   "source": []
  }
 ],
 "metadata": {
  "language_info": {
   "name": "python"
  }
 },
 "nbformat": 4,
 "nbformat_minor": 2
}
